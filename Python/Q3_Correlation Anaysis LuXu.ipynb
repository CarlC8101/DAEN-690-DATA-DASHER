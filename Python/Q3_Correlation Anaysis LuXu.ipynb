{
 "cells": [
  {
   "cell_type": "markdown",
   "metadata": {},
   "source": [
    "# Q3: Exploring what, if any, relationship there is between category of EMS call outcome based on provider tenure. "
   ]
  },
  {
   "cell_type": "markdown",
   "metadata": {},
   "source": [
    "## 1. Load packages and overview "
   ]
  },
  {
   "cell_type": "code",
   "execution_count": 5,
   "metadata": {},
   "outputs": [],
   "source": [
    "import pandas as pd\n",
    "import numpy as np\n",
    "import matplotlib.pyplot as plt\n",
    "import seaborn as sns"
   ]
  },
  {
   "cell_type": "code",
   "execution_count": 6,
   "metadata": {
    "scrolled": true
   },
   "outputs": [],
   "source": [
    "df0 = pd.read_excel('/Users/luxu/Desktop/DEAN690/dataset/DAEN 690 2021-02-25.xlsx')"
   ]
  },
  {
   "cell_type": "code",
   "execution_count": 7,
   "metadata": {
    "scrolled": true
   },
   "outputs": [
    {
     "data": {
      "text/html": [
       "<div>\n",
       "<style scoped>\n",
       "    .dataframe tbody tr th:only-of-type {\n",
       "        vertical-align: middle;\n",
       "    }\n",
       "\n",
       "    .dataframe tbody tr th {\n",
       "        vertical-align: top;\n",
       "    }\n",
       "\n",
       "    .dataframe thead th {\n",
       "        text-align: right;\n",
       "    }\n",
       "</style>\n",
       "<table border=\"1\" class=\"dataframe\">\n",
       "  <thead>\n",
       "    <tr style=\"text-align: right;\">\n",
       "      <th></th>\n",
       "      <th>PatientId</th>\n",
       "      <th>FRDPersonnelID</th>\n",
       "      <th>Shift</th>\n",
       "      <th>UnitId</th>\n",
       "      <th>FireStation</th>\n",
       "      <th>Battalion</th>\n",
       "      <th>PatientOutcome</th>\n",
       "      <th>PatientGender</th>\n",
       "      <th>CrewMemberRoles</th>\n",
       "      <th>DispatchTime</th>\n",
       "      <th>FRDPersonnelGender</th>\n",
       "      <th>FRDPersonnelStartDate</th>\n",
       "    </tr>\n",
       "  </thead>\n",
       "  <tbody>\n",
       "    <tr>\n",
       "      <th>0</th>\n",
       "      <td>479838</td>\n",
       "      <td>6ED7C99E-9E01-E211-B5F5-78E7D18CFD3C</td>\n",
       "      <td>A - Shift</td>\n",
       "      <td>M404</td>\n",
       "      <td>4</td>\n",
       "      <td>401</td>\n",
       "      <td>Standby (No Services Performed)</td>\n",
       "      <td>NaN</td>\n",
       "      <td>Primary Patient Caregiver-At Scene,Primary Pat...</td>\n",
       "      <td>2018-01-01 00:29:02</td>\n",
       "      <td>Male</td>\n",
       "      <td>1997-08-18</td>\n",
       "    </tr>\n",
       "    <tr>\n",
       "      <th>1</th>\n",
       "      <td>479838</td>\n",
       "      <td>F39A55F0-C619-E511-80CA-001DD8B71D38</td>\n",
       "      <td>A - Shift</td>\n",
       "      <td>M404</td>\n",
       "      <td>4</td>\n",
       "      <td>401</td>\n",
       "      <td>Standby (No Services Performed)</td>\n",
       "      <td>NaN</td>\n",
       "      <td>Driver-Transport,Other Patient Caregiver-At Scene</td>\n",
       "      <td>2018-01-01 00:29:02</td>\n",
       "      <td>Male</td>\n",
       "      <td>2007-02-19</td>\n",
       "    </tr>\n",
       "    <tr>\n",
       "      <th>2</th>\n",
       "      <td>479838</td>\n",
       "      <td>D6D3C99E-9E01-E211-B5F5-78E7D18CFD3C</td>\n",
       "      <td>A - Shift</td>\n",
       "      <td>M404</td>\n",
       "      <td>4</td>\n",
       "      <td>401</td>\n",
       "      <td>Standby (No Services Performed)</td>\n",
       "      <td>NaN</td>\n",
       "      <td>Intern/Student,Other Patient Caregiver-At Scen...</td>\n",
       "      <td>2018-01-01 00:29:02</td>\n",
       "      <td>Male</td>\n",
       "      <td>2008-08-18</td>\n",
       "    </tr>\n",
       "    <tr>\n",
       "      <th>3</th>\n",
       "      <td>479839</td>\n",
       "      <td>71D4C99E-9E01-E211-B5F5-78E7D18CFD3C</td>\n",
       "      <td>A - Shift</td>\n",
       "      <td>M401</td>\n",
       "      <td>1</td>\n",
       "      <td>402</td>\n",
       "      <td>No Treatment/Transport Required</td>\n",
       "      <td>NaN</td>\n",
       "      <td>Primary Patient Caregiver-At Scene,Primary Pat...</td>\n",
       "      <td>2018-01-01 00:40:54</td>\n",
       "      <td>Male</td>\n",
       "      <td>2011-10-24</td>\n",
       "    </tr>\n",
       "    <tr>\n",
       "      <th>4</th>\n",
       "      <td>479839</td>\n",
       "      <td>F9D4C99E-9E01-E211-B5F5-78E7D18CFD3C</td>\n",
       "      <td>A - Shift</td>\n",
       "      <td>M401</td>\n",
       "      <td>1</td>\n",
       "      <td>402</td>\n",
       "      <td>No Treatment/Transport Required</td>\n",
       "      <td>NaN</td>\n",
       "      <td>Driver-Response,Driver-Transport</td>\n",
       "      <td>2018-01-01 00:40:54</td>\n",
       "      <td>Male</td>\n",
       "      <td>2012-02-27</td>\n",
       "    </tr>\n",
       "  </tbody>\n",
       "</table>\n",
       "</div>"
      ],
      "text/plain": [
       "   PatientId                        FRDPersonnelID      Shift UnitId  \\\n",
       "0     479838  6ED7C99E-9E01-E211-B5F5-78E7D18CFD3C  A - Shift   M404   \n",
       "1     479838  F39A55F0-C619-E511-80CA-001DD8B71D38  A - Shift   M404   \n",
       "2     479838  D6D3C99E-9E01-E211-B5F5-78E7D18CFD3C  A - Shift   M404   \n",
       "3     479839  71D4C99E-9E01-E211-B5F5-78E7D18CFD3C  A - Shift   M401   \n",
       "4     479839  F9D4C99E-9E01-E211-B5F5-78E7D18CFD3C  A - Shift   M401   \n",
       "\n",
       "   FireStation  Battalion                   PatientOutcome PatientGender  \\\n",
       "0            4        401  Standby (No Services Performed)           NaN   \n",
       "1            4        401  Standby (No Services Performed)           NaN   \n",
       "2            4        401  Standby (No Services Performed)           NaN   \n",
       "3            1        402  No Treatment/Transport Required           NaN   \n",
       "4            1        402  No Treatment/Transport Required           NaN   \n",
       "\n",
       "                                     CrewMemberRoles        DispatchTime  \\\n",
       "0  Primary Patient Caregiver-At Scene,Primary Pat... 2018-01-01 00:29:02   \n",
       "1  Driver-Transport,Other Patient Caregiver-At Scene 2018-01-01 00:29:02   \n",
       "2  Intern/Student,Other Patient Caregiver-At Scen... 2018-01-01 00:29:02   \n",
       "3  Primary Patient Caregiver-At Scene,Primary Pat... 2018-01-01 00:40:54   \n",
       "4                   Driver-Response,Driver-Transport 2018-01-01 00:40:54   \n",
       "\n",
       "  FRDPersonnelGender FRDPersonnelStartDate  \n",
       "0               Male            1997-08-18  \n",
       "1               Male            2007-02-19  \n",
       "2               Male            2008-08-18  \n",
       "3               Male            2011-10-24  \n",
       "4               Male            2012-02-27  "
      ]
     },
     "execution_count": 7,
     "metadata": {},
     "output_type": "execute_result"
    }
   ],
   "source": [
    "df0.head()"
   ]
  },
  {
   "cell_type": "code",
   "execution_count": 8,
   "metadata": {
    "scrolled": true
   },
   "outputs": [
    {
     "name": "stdout",
     "output_type": "stream",
     "text": [
      "<class 'pandas.core.frame.DataFrame'>\n",
      "RangeIndex: 543774 entries, 0 to 543773\n",
      "Data columns (total 12 columns):\n",
      " #   Column                 Non-Null Count   Dtype         \n",
      "---  ------                 --------------   -----         \n",
      " 0   PatientId              543774 non-null  int64         \n",
      " 1   FRDPersonnelID         543774 non-null  object        \n",
      " 2   Shift                  543774 non-null  object        \n",
      " 3   UnitId                 543774 non-null  object        \n",
      " 4   FireStation            543774 non-null  int64         \n",
      " 5   Battalion              543774 non-null  int64         \n",
      " 6   PatientOutcome         543772 non-null  object        \n",
      " 7   PatientGender          412396 non-null  object        \n",
      " 8   CrewMemberRoles        543774 non-null  object        \n",
      " 9   DispatchTime           543774 non-null  datetime64[ns]\n",
      " 10  FRDPersonnelGender     543300 non-null  object        \n",
      " 11  FRDPersonnelStartDate  543300 non-null  datetime64[ns]\n",
      "dtypes: datetime64[ns](2), int64(3), object(7)\n",
      "memory usage: 49.8+ MB\n"
     ]
    }
   ],
   "source": [
    "df0.info()"
   ]
  },
  {
   "cell_type": "markdown",
   "metadata": {},
   "source": [
    "## 2. Data Clean and Key Attributes Expore"
   ]
  },
  {
   "cell_type": "code",
   "execution_count": 9,
   "metadata": {
    "scrolled": true
   },
   "outputs": [
    {
     "data": {
      "text/plain": [
       "PatientId                0.000000\n",
       "FRDPersonnelID           0.000000\n",
       "Shift                    0.000000\n",
       "UnitId                   0.000000\n",
       "FireStation              0.000000\n",
       "Battalion                0.000000\n",
       "PatientOutcome           0.000004\n",
       "PatientGender            0.241610\n",
       "CrewMemberRoles          0.000000\n",
       "DispatchTime             0.000000\n",
       "FRDPersonnelGender       0.000850\n",
       "FRDPersonnelStartDate    0.000850\n",
       "dtype: float64"
      ]
     },
     "execution_count": 9,
     "metadata": {},
     "output_type": "execute_result"
    }
   ],
   "source": [
    "df0.drop_duplicates(inplace=True)\n",
    "df0.index = range(df0.shape[0])   \n",
    "df0.isnull().mean()"
   ]
  },
  {
   "cell_type": "code",
   "execution_count": 10,
   "metadata": {},
   "outputs": [
    {
     "name": "stdout",
     "output_type": "stream",
     "text": [
      "<class 'pandas.core.frame.DataFrame'>\n",
      "RangeIndex: 247024 entries, 0 to 247023\n",
      "Data columns (total 12 columns):\n",
      " #   Column                 Non-Null Count   Dtype         \n",
      "---  ------                 --------------   -----         \n",
      " 0   PatientId              247024 non-null  int64         \n",
      " 1   FRDPersonnelID         247024 non-null  object        \n",
      " 2   Shift                  247024 non-null  object        \n",
      " 3   UnitId                 247024 non-null  object        \n",
      " 4   FireStation            247024 non-null  int64         \n",
      " 5   Battalion              247024 non-null  int64         \n",
      " 6   PatientOutcome         247023 non-null  object        \n",
      " 7   PatientGender          189602 non-null  object        \n",
      " 8   CrewMemberRoles        247024 non-null  object        \n",
      " 9   DispatchTime           247024 non-null  datetime64[ns]\n",
      " 10  FRDPersonnelGender     247012 non-null  object        \n",
      " 11  FRDPersonnelStartDate  247012 non-null  datetime64[ns]\n",
      "dtypes: datetime64[ns](2), int64(3), object(7)\n",
      "memory usage: 22.6+ MB\n"
     ]
    }
   ],
   "source": [
    "df1 = df0.loc[df0['CrewMemberRoles'].str.contains('Primary Patient Caregiver')]\n",
    "df1.index = range(df1.shape[0])\n",
    "df1.info()"
   ]
  },
  {
   "cell_type": "code",
   "execution_count": 11,
   "metadata": {},
   "outputs": [
    {
     "data": {
      "text/plain": [
       "Shift                     0\n",
       "FireStation               0\n",
       "FRDPersonnelStartDate    12\n",
       "PatientOutcome            1\n",
       "dtype: int64"
      ]
     },
     "execution_count": 11,
     "metadata": {},
     "output_type": "execute_result"
    }
   ],
   "source": [
    "df2 = df1[['Shift','FireStation','FRDPersonnelStartDate','PatientOutcome']]\n",
    "df2.isna().sum()"
   ]
  },
  {
   "cell_type": "code",
   "execution_count": 12,
   "metadata": {},
   "outputs": [],
   "source": [
    "df = df2.dropna()"
   ]
  },
  {
   "cell_type": "code",
   "execution_count": 13,
   "metadata": {
    "scrolled": true
   },
   "outputs": [
    {
     "name": "stdout",
     "output_type": "stream",
     "text": [
      "       Shift  FireStation FRDPersonnelStartDate  \\\n",
      "0  A - Shift            4            1997-08-18   \n",
      "1  A - Shift            1            2011-10-24   \n",
      "2  B - Shift           19            2015-01-12   \n",
      "3  A - Shift           35            2004-07-12   \n",
      "4  A - Shift           37            2012-09-24   \n",
      "\n",
      "                    PatientOutcome  year  tenure  \n",
      "0  Standby (No Services Performed)  1997      24  \n",
      "1  No Treatment/Transport Required  2011      10  \n",
      "2           Patient Refusal  (AMA)  2015       6  \n",
      "3           Treated & Transported   2004      17  \n",
      "4           Treated & Transported   2012       9  \n"
     ]
    }
   ],
   "source": [
    "pd.set_option('mode.chained_assignment', None)  \n",
    "df['year'] = pd.DatetimeIndex(df['FRDPersonnelStartDate']).year\n",
    "df['tenure'] = 2021 - df['year']\n",
    "print(df.head())"
   ]
  },
  {
   "cell_type": "markdown",
   "metadata": {},
   "source": [
    "## 3. Understand categorical features"
   ]
  },
  {
   "cell_type": "code",
   "execution_count": 14,
   "metadata": {},
   "outputs": [
    {
     "data": {
      "image/png": "[encoded data removed]",
      "text/plain": [
       "<Figure size 432x288 with 1 Axes>"
      ]
     },
     "metadata": {
      "needs_background": "light"
     },
     "output_type": "display_data"
    }
   ],
   "source": [
    "sns.countplot(y='PatientOutcome', data=df)\n",
    "plt.show()"
   ]
  },
  {
   "cell_type": "code",
   "execution_count": 15,
   "metadata": {
    "scrolled": true
   },
   "outputs": [
    {
     "data": {
      "image/png": "[encoded data removed]",
      "text/plain": [
       "<Figure size 792x360 with 1 Axes>"
      ]
     },
     "metadata": {
      "needs_background": "light"
     },
     "output_type": "display_data"
    }
   ],
   "source": [
    "plt.figure(figsize=(11, 5))\n",
    "sns.countplot(x ='tenure', data=df)\n",
    "plt.show()"
   ]
  },
  {
   "cell_type": "markdown",
   "metadata": {},
   "source": [
    "### bin year/tenure (range of values)"
   ]
  },
  {
   "cell_type": "markdown",
   "metadata": {},
   "source": [
    "Senior Provider: 11+  \n",
    "Middle Provider: 4-10   \n",
    "Junior Provider: 0-3"
   ]
  },
  {
   "cell_type": "code",
   "execution_count": 17,
   "metadata": {},
   "outputs": [
    {
     "data": {
      "text/html": [
       "<div>\n",
       "<style scoped>\n",
       "    .dataframe tbody tr th:only-of-type {\n",
       "        vertical-align: middle;\n",
       "    }\n",
       "\n",
       "    .dataframe tbody tr th {\n",
       "        vertical-align: top;\n",
       "    }\n",
       "\n",
       "    .dataframe thead th {\n",
       "        text-align: right;\n",
       "    }\n",
       "</style>\n",
       "<table border=\"1\" class=\"dataframe\">\n",
       "  <thead>\n",
       "    <tr style=\"text-align: right;\">\n",
       "      <th></th>\n",
       "      <th>Shift</th>\n",
       "      <th>FireStation</th>\n",
       "      <th>FRDPersonnelStartDate</th>\n",
       "      <th>PatientOutcome</th>\n",
       "      <th>year</th>\n",
       "      <th>tenure</th>\n",
       "      <th>tenure_bin</th>\n",
       "    </tr>\n",
       "  </thead>\n",
       "  <tbody>\n",
       "    <tr>\n",
       "      <th>0</th>\n",
       "      <td>A - Shift</td>\n",
       "      <td>4</td>\n",
       "      <td>1997-08-18</td>\n",
       "      <td>Standby (No Services Performed)</td>\n",
       "      <td>1997</td>\n",
       "      <td>24</td>\n",
       "      <td>11+</td>\n",
       "    </tr>\n",
       "    <tr>\n",
       "      <th>1</th>\n",
       "      <td>A - Shift</td>\n",
       "      <td>1</td>\n",
       "      <td>2011-10-24</td>\n",
       "      <td>No Treatment/Transport Required</td>\n",
       "      <td>2011</td>\n",
       "      <td>10</td>\n",
       "      <td>4-10</td>\n",
       "    </tr>\n",
       "    <tr>\n",
       "      <th>2</th>\n",
       "      <td>B - Shift</td>\n",
       "      <td>19</td>\n",
       "      <td>2015-01-12</td>\n",
       "      <td>Patient Refusal  (AMA)</td>\n",
       "      <td>2015</td>\n",
       "      <td>6</td>\n",
       "      <td>4-10</td>\n",
       "    </tr>\n",
       "    <tr>\n",
       "      <th>3</th>\n",
       "      <td>A - Shift</td>\n",
       "      <td>35</td>\n",
       "      <td>2004-07-12</td>\n",
       "      <td>Treated &amp; Transported</td>\n",
       "      <td>2004</td>\n",
       "      <td>17</td>\n",
       "      <td>11+</td>\n",
       "    </tr>\n",
       "    <tr>\n",
       "      <th>4</th>\n",
       "      <td>A - Shift</td>\n",
       "      <td>37</td>\n",
       "      <td>2012-09-24</td>\n",
       "      <td>Treated &amp; Transported</td>\n",
       "      <td>2012</td>\n",
       "      <td>9</td>\n",
       "      <td>4-10</td>\n",
       "    </tr>\n",
       "  </tbody>\n",
       "</table>\n",
       "</div>"
      ],
      "text/plain": [
       "       Shift  FireStation FRDPersonnelStartDate  \\\n",
       "0  A - Shift            4            1997-08-18   \n",
       "1  A - Shift            1            2011-10-24   \n",
       "2  B - Shift           19            2015-01-12   \n",
       "3  A - Shift           35            2004-07-12   \n",
       "4  A - Shift           37            2012-09-24   \n",
       "\n",
       "                    PatientOutcome  year  tenure tenure_bin  \n",
       "0  Standby (No Services Performed)  1997      24        11+  \n",
       "1  No Treatment/Transport Required  2011      10       4-10  \n",
       "2           Patient Refusal  (AMA)  2015       6       4-10  \n",
       "3           Treated & Transported   2004      17        11+  \n",
       "4           Treated & Transported   2012       9       4-10  "
      ]
     },
     "execution_count": 17,
     "metadata": {},
     "output_type": "execute_result"
    }
   ],
   "source": [
    "bin_tenure = [0, 4, 11, 39]\n",
    "tenure_range = ['0-3', '4-10', '11+']\n",
    "df['tenure_bin'] = pd.cut(df['tenure'], bin_tenure, labels=tenure_range)\n",
    "df.head()"
   ]
  },
  {
   "cell_type": "code",
   "execution_count": 18,
   "metadata": {
    "scrolled": false
   },
   "outputs": [
    {
     "data": {
      "image/png": "[encoded data removed]",
      "text/plain": [
       "<Figure size 576x288 with 1 Axes>"
      ]
     },
     "metadata": {
      "needs_background": "light"
     },
     "output_type": "display_data"
    }
   ],
   "source": [
    "plt.figure(figsize=(8, 4))\n",
    "sns.countplot(x='tenure_bin', data=df)\n",
    "plt.show()"
   ]
  },
  {
   "cell_type": "markdown",
   "metadata": {},
   "source": [
    "## 4. Correlation Analytics"
   ]
  },
  {
   "cell_type": "markdown",
   "metadata": {},
   "source": [
    "### 4.1 Chi-Squared Test： "
   ]
  },
  {
   "cell_type": "code",
   "execution_count": 19,
   "metadata": {},
   "outputs": [
    {
     "data": {
      "text/plain": [
       "(449.89792479937586, 1.9348147339478234e-81, 22)"
      ]
     },
     "execution_count": 19,
     "metadata": {},
     "output_type": "execute_result"
    }
   ],
   "source": [
    "contingenc_table = pd.crosstab(df['PatientOutcome'],\n",
    "                              df['tenure_bin'],\n",
    "                              margins = True)\n",
    "f_obs = np.array([contingenc_table.iloc[0][0:3].values,\n",
    "                  contingenc_table.iloc[1][0:3].values,\n",
    "                  contingenc_table.iloc[2][0:3].values,\n",
    "                  contingenc_table.iloc[3][0:3].values,\n",
    "                  contingenc_table.iloc[4][0:3].values,\n",
    "                  contingenc_table.iloc[5][0:3].values,\n",
    "                  contingenc_table.iloc[6][0:3].values,\n",
    "                  contingenc_table.iloc[7][0:3].values,\n",
    "                  contingenc_table.iloc[8][0:3].values,\n",
    "                  contingenc_table.iloc[9][0:3].values,\n",
    "                  contingenc_table.iloc[10][0:3].values,\n",
    "                  contingenc_table.iloc[11][0:3].values])\n",
    "from scipy import stats\n",
    "stats.chi2_contingency(f_obs)[0:3]"
   ]
  },
  {
   "cell_type": "code",
   "execution_count": 31,
   "metadata": {
    "scrolled": true
   },
   "outputs": [
    {
     "data": {
      "text/html": [
       "<div>\n",
       "<style scoped>\n",
       "    .dataframe tbody tr th:only-of-type {\n",
       "        vertical-align: middle;\n",
       "    }\n",
       "\n",
       "    .dataframe tbody tr th {\n",
       "        vertical-align: top;\n",
       "    }\n",
       "\n",
       "    .dataframe thead th {\n",
       "        text-align: right;\n",
       "    }\n",
       "</style>\n",
       "<table border=\"1\" class=\"dataframe\">\n",
       "  <thead>\n",
       "    <tr style=\"text-align: right;\">\n",
       "      <th>tenure_bin</th>\n",
       "      <th>0-3</th>\n",
       "      <th>4-10</th>\n",
       "      <th>11+</th>\n",
       "      <th>All</th>\n",
       "    </tr>\n",
       "    <tr>\n",
       "      <th>PatientOutcome</th>\n",
       "      <th></th>\n",
       "      <th></th>\n",
       "      <th></th>\n",
       "      <th></th>\n",
       "    </tr>\n",
       "  </thead>\n",
       "  <tbody>\n",
       "    <tr>\n",
       "      <th>Canceled (On Scene, No Patient Contact)</th>\n",
       "      <td>330</td>\n",
       "      <td>2806</td>\n",
       "      <td>2388</td>\n",
       "      <td>5524</td>\n",
       "    </tr>\n",
       "    <tr>\n",
       "      <th>Canceled (Prior to Arrival)</th>\n",
       "      <td>939</td>\n",
       "      <td>9024</td>\n",
       "      <td>7850</td>\n",
       "      <td>17813</td>\n",
       "    </tr>\n",
       "    <tr>\n",
       "      <th>EMS Assist (Other Agency)</th>\n",
       "      <td>184</td>\n",
       "      <td>2267</td>\n",
       "      <td>1511</td>\n",
       "      <td>3962</td>\n",
       "    </tr>\n",
       "    <tr>\n",
       "      <th>No Patient Found</th>\n",
       "      <td>334</td>\n",
       "      <td>2500</td>\n",
       "      <td>1883</td>\n",
       "      <td>4717</td>\n",
       "    </tr>\n",
       "    <tr>\n",
       "      <th>No Treatment/Transport Required</th>\n",
       "      <td>1029</td>\n",
       "      <td>11900</td>\n",
       "      <td>7362</td>\n",
       "      <td>20291</td>\n",
       "    </tr>\n",
       "    <tr>\n",
       "      <th>Patient Dead at Scene (EMS CPR Attempted)</th>\n",
       "      <td>42</td>\n",
       "      <td>292</td>\n",
       "      <td>196</td>\n",
       "      <td>530</td>\n",
       "    </tr>\n",
       "    <tr>\n",
       "      <th>Patient Dead at Scene (No EMS CPR)</th>\n",
       "      <td>130</td>\n",
       "      <td>1154</td>\n",
       "      <td>836</td>\n",
       "      <td>2120</td>\n",
       "    </tr>\n",
       "    <tr>\n",
       "      <th>Patient Refusal  (AMA)</th>\n",
       "      <td>1329</td>\n",
       "      <td>11854</td>\n",
       "      <td>8359</td>\n",
       "      <td>21542</td>\n",
       "    </tr>\n",
       "    <tr>\n",
       "      <th>Standby (No Services Performed)</th>\n",
       "      <td>281</td>\n",
       "      <td>2042</td>\n",
       "      <td>1666</td>\n",
       "      <td>3989</td>\n",
       "    </tr>\n",
       "    <tr>\n",
       "      <th>Standby (Operational Support Provided)</th>\n",
       "      <td>72</td>\n",
       "      <td>643</td>\n",
       "      <td>643</td>\n",
       "      <td>1358</td>\n",
       "    </tr>\n",
       "    <tr>\n",
       "      <th>Treated &amp; Transported</th>\n",
       "      <td>10244</td>\n",
       "      <td>88831</td>\n",
       "      <td>65397</td>\n",
       "      <td>164472</td>\n",
       "    </tr>\n",
       "    <tr>\n",
       "      <th>Treated, Transferred Care</th>\n",
       "      <td>25</td>\n",
       "      <td>375</td>\n",
       "      <td>293</td>\n",
       "      <td>693</td>\n",
       "    </tr>\n",
       "    <tr>\n",
       "      <th>All</th>\n",
       "      <td>14939</td>\n",
       "      <td>133688</td>\n",
       "      <td>98384</td>\n",
       "      <td>247011</td>\n",
       "    </tr>\n",
       "  </tbody>\n",
       "</table>\n",
       "</div>"
      ],
      "text/plain": [
       "tenure_bin                                   0-3    4-10    11+     All\n",
       "PatientOutcome                                                         \n",
       "Canceled (On Scene, No Patient Contact)      330    2806   2388    5524\n",
       "Canceled (Prior to Arrival)                  939    9024   7850   17813\n",
       "EMS Assist (Other Agency)                    184    2267   1511    3962\n",
       "No Patient Found                             334    2500   1883    4717\n",
       "No Treatment/Transport Required             1029   11900   7362   20291\n",
       "Patient Dead at Scene (EMS CPR Attempted)     42     292    196     530\n",
       "Patient Dead at Scene (No EMS CPR)           130    1154    836    2120\n",
       "Patient Refusal  (AMA)                      1329   11854   8359   21542\n",
       "Standby (No Services Performed)              281    2042   1666    3989\n",
       "Standby (Operational Support Provided)        72     643    643    1358\n",
       "Treated & Transported                      10244   88831  65397  164472\n",
       "Treated, Transferred Care                     25     375    293     693\n",
       "All                                        14939  133688  98384  247011"
      ]
     },
     "execution_count": 31,
     "metadata": {},
     "output_type": "execute_result"
    }
   ],
   "source": [
    "contingenc_table"
   ]
  },
  {
   "cell_type": "markdown",
   "metadata": {},
   "source": [
    "p value is close to zero（1.9348147339478234e-81）, which means that the possibility of irrelevance between EMS call outcome and provider tenure is extremely small.  \n",
    "There is a relationship between the category of EMS call outcome and provider tenure  \n"
   ]
  },
  {
   "cell_type": "markdown",
   "metadata": {},
   "source": [
    "### 4.2 Cramer's V"
   ]
  },
  {
   "cell_type": "markdown",
   "metadata": {},
   "source": [
    "Measure the strength of association between categorical data. \n",
    "The coefficient ranges from 0 to 1.  \n",
    "0 means that the two variables are no association, and 1 means strong association.  "
   ]
  },
  {
   "cell_type": "code",
   "execution_count": 20,
   "metadata": {},
   "outputs": [
    {
     "name": "stdout",
     "output_type": "stream",
     "text": [
      "0.030177541108439013\n"
     ]
    }
   ],
   "source": [
    "X2 = stats.chi2_contingency(f_obs)[0]\n",
    "n = np.sum(f_obs)\n",
    "minDim = min(f_obs.shape)-1\n",
    "V = np.sqrt((X2/n)/minDim)\n",
    "print(V)"
   ]
  },
  {
   "cell_type": "markdown",
   "metadata": {},
   "source": [
    "### 4.3 One-Way ANOVA"
   ]
  },
  {
   "cell_type": "code",
   "execution_count": 21,
   "metadata": {
    "scrolled": true
   },
   "outputs": [
    {
     "data": {
      "text/plain": [
       "PatientOutcome\n",
       "Canceled (On Scene, No Patient Contact)        5524\n",
       "Canceled (Prior to Arrival)                   17813\n",
       "EMS Assist (Other Agency)                      3962\n",
       "No Patient Found                               4717\n",
       "No Treatment/Transport Required               20291\n",
       "Patient Dead at Scene (EMS CPR Attempted)       530\n",
       "Patient Dead at Scene (No EMS CPR)             2120\n",
       "Patient Refusal  (AMA)                        21542\n",
       "Standby (No Services Performed)                3989\n",
       "Standby (Operational Support Provided)         1358\n",
       "Treated & Transported                        164472\n",
       "Treated, Transferred Care                       693\n",
       "Name: tenure, dtype: int64"
      ]
     },
     "execution_count": 21,
     "metadata": {},
     "output_type": "execute_result"
    }
   ],
   "source": [
    "df.groupby(\"PatientOutcome\")[\"tenure\"].count()"
   ]
  },
  {
   "cell_type": "code",
   "execution_count": 22,
   "metadata": {
    "scrolled": true
   },
   "outputs": [
    {
     "data": {
      "text/html": [
       "<div>\n",
       "<style scoped>\n",
       "    .dataframe tbody tr th:only-of-type {\n",
       "        vertical-align: middle;\n",
       "    }\n",
       "\n",
       "    .dataframe tbody tr th {\n",
       "        vertical-align: top;\n",
       "    }\n",
       "\n",
       "    .dataframe thead th {\n",
       "        text-align: right;\n",
       "    }\n",
       "</style>\n",
       "<table border=\"1\" class=\"dataframe\">\n",
       "  <thead>\n",
       "    <tr style=\"text-align: right;\">\n",
       "      <th></th>\n",
       "      <th>df</th>\n",
       "      <th>sum_sq</th>\n",
       "      <th>mean_sq</th>\n",
       "      <th>F</th>\n",
       "      <th>PR(&gt;F)</th>\n",
       "    </tr>\n",
       "  </thead>\n",
       "  <tbody>\n",
       "    <tr>\n",
       "      <th>PatientOutcome</th>\n",
       "      <td>11.0</td>\n",
       "      <td>1.237377e+04</td>\n",
       "      <td>1124.888074</td>\n",
       "      <td>23.896999</td>\n",
       "      <td>5.995249e-50</td>\n",
       "    </tr>\n",
       "    <tr>\n",
       "      <th>Residual</th>\n",
       "      <td>246999.0</td>\n",
       "      <td>1.162683e+07</td>\n",
       "      <td>47.072358</td>\n",
       "      <td>NaN</td>\n",
       "      <td>NaN</td>\n",
       "    </tr>\n",
       "  </tbody>\n",
       "</table>\n",
       "</div>"
      ],
      "text/plain": [
       "                      df        sum_sq      mean_sq          F        PR(>F)\n",
       "PatientOutcome      11.0  1.237377e+04  1124.888074  23.896999  5.995249e-50\n",
       "Residual        246999.0  1.162683e+07    47.072358        NaN           NaN"
      ]
     },
     "execution_count": 22,
     "metadata": {},
     "output_type": "execute_result"
    }
   ],
   "source": [
    "from statsmodels.stats.anova import anova_lm\n",
    "from statsmodels.formula.api import ols\n",
    "model = ols(\"tenure ~ PatientOutcome\", data=df).fit()\n",
    "anova_lm(model)"
   ]
  },
  {
   "cell_type": "markdown",
   "metadata": {},
   "source": [
    "PR:5.995249e-50 <0.05  \n",
    "There is a relationship between the category of EMS call outcome and provider tenure"
   ]
  }
 ],
 "metadata": {
  "kernelspec": {
   "display_name": "Python 3",
   "language": "python",
   "name": "python3"
  },
  "language_info": {
   "codemirror_mode": {
    "name": "ipython",
    "version": 3
   },
   "file_extension": ".py",
   "mimetype": "text/x-python",
   "name": "python",
   "nbconvert_exporter": "python",
   "pygments_lexer": "ipython3",
   "version": "3.8.8"
  }
 },
 "nbformat": 4,
 "nbformat_minor": 4
}
