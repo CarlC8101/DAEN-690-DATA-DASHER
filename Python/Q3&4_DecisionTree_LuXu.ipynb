{
 "cells": [
  {
   "cell_type": "markdown",
   "id": "continuous-gross",
   "metadata": {},
   "source": [
    "# Q3 & Q4 classification analysis\n",
    "For questions 3 and 4, it mainly discusses category of EMS call outcome, provider tenure, fire station location and provider shift assignment.   \n",
    "\n",
    "dependent valuable: EMS call outcome  \n",
    "Independent valuable:tenure, fire station location, shift assignment  \n",
    "\n",
    "We use category of EMS call outcome as the dependent variable and the remaining attributes as independent variables to establish a machine learning model.  \n",
    "The purpose of classification analysis is to explore whether it is possible to predict the dependent variable through the independent variable, and the importance of the independent variable to the dependent variable."
   ]
  },
  {
   "cell_type": "markdown",
   "id": "express-leadership",
   "metadata": {},
   "source": [
    "## 1. Load packages and overview"
   ]
  },
  {
   "cell_type": "code",
   "execution_count": 4,
   "id": "declared-manual",
   "metadata": {},
   "outputs": [],
   "source": [
    "import pandas as pd\n",
    "import numpy as np\n",
    "import matplotlib.pyplot as plt\n",
    "import seaborn as sns\n",
    "np.set_printoptions(suppress=True)\n",
    "pd.set_option('display.max_rows', None)\n",
    "pd.set_option('display.max_columns', None)\n",
    "df0 = pd.read_excel('/Users/luxu/Desktop/DEAN690/dataset/DAEN 690 2021-02-25.xlsx')"
   ]
  },
  {
   "cell_type": "code",
   "execution_count": 5,
   "id": "major-trauma",
   "metadata": {},
   "outputs": [
    {
     "data": {
      "text/html": [
       "<div>\n",
       "<style scoped>\n",
       "    .dataframe tbody tr th:only-of-type {\n",
       "        vertical-align: middle;\n",
       "    }\n",
       "\n",
       "    .dataframe tbody tr th {\n",
       "        vertical-align: top;\n",
       "    }\n",
       "\n",
       "    .dataframe thead th {\n",
       "        text-align: right;\n",
       "    }\n",
       "</style>\n",
       "<table border=\"1\" class=\"dataframe\">\n",
       "  <thead>\n",
       "    <tr style=\"text-align: right;\">\n",
       "      <th></th>\n",
       "      <th>PatientId</th>\n",
       "      <th>FRDPersonnelID</th>\n",
       "      <th>Shift</th>\n",
       "      <th>UnitId</th>\n",
       "      <th>FireStation</th>\n",
       "      <th>Battalion</th>\n",
       "      <th>PatientOutcome</th>\n",
       "      <th>PatientGender</th>\n",
       "      <th>CrewMemberRoles</th>\n",
       "      <th>DispatchTime</th>\n",
       "      <th>FRDPersonnelGender</th>\n",
       "      <th>FRDPersonnelStartDate</th>\n",
       "    </tr>\n",
       "  </thead>\n",
       "  <tbody>\n",
       "    <tr>\n",
       "      <th>0</th>\n",
       "      <td>479838</td>\n",
       "      <td>6ED7C99E-9E01-E211-B5F5-78E7D18CFD3C</td>\n",
       "      <td>A - Shift</td>\n",
       "      <td>M404</td>\n",
       "      <td>4</td>\n",
       "      <td>401</td>\n",
       "      <td>Standby (No Services Performed)</td>\n",
       "      <td>NaN</td>\n",
       "      <td>Primary Patient Caregiver-At Scene,Primary Pat...</td>\n",
       "      <td>2018-01-01 00:29:02</td>\n",
       "      <td>Male</td>\n",
       "      <td>1997-08-18</td>\n",
       "    </tr>\n",
       "    <tr>\n",
       "      <th>1</th>\n",
       "      <td>479838</td>\n",
       "      <td>F39A55F0-C619-E511-80CA-001DD8B71D38</td>\n",
       "      <td>A - Shift</td>\n",
       "      <td>M404</td>\n",
       "      <td>4</td>\n",
       "      <td>401</td>\n",
       "      <td>Standby (No Services Performed)</td>\n",
       "      <td>NaN</td>\n",
       "      <td>Driver-Transport,Other Patient Caregiver-At Scene</td>\n",
       "      <td>2018-01-01 00:29:02</td>\n",
       "      <td>Male</td>\n",
       "      <td>2007-02-19</td>\n",
       "    </tr>\n",
       "    <tr>\n",
       "      <th>2</th>\n",
       "      <td>479838</td>\n",
       "      <td>D6D3C99E-9E01-E211-B5F5-78E7D18CFD3C</td>\n",
       "      <td>A - Shift</td>\n",
       "      <td>M404</td>\n",
       "      <td>4</td>\n",
       "      <td>401</td>\n",
       "      <td>Standby (No Services Performed)</td>\n",
       "      <td>NaN</td>\n",
       "      <td>Intern/Student,Other Patient Caregiver-At Scen...</td>\n",
       "      <td>2018-01-01 00:29:02</td>\n",
       "      <td>Male</td>\n",
       "      <td>2008-08-18</td>\n",
       "    </tr>\n",
       "    <tr>\n",
       "      <th>3</th>\n",
       "      <td>479839</td>\n",
       "      <td>71D4C99E-9E01-E211-B5F5-78E7D18CFD3C</td>\n",
       "      <td>A - Shift</td>\n",
       "      <td>M401</td>\n",
       "      <td>1</td>\n",
       "      <td>402</td>\n",
       "      <td>No Treatment/Transport Required</td>\n",
       "      <td>NaN</td>\n",
       "      <td>Primary Patient Caregiver-At Scene,Primary Pat...</td>\n",
       "      <td>2018-01-01 00:40:54</td>\n",
       "      <td>Male</td>\n",
       "      <td>2011-10-24</td>\n",
       "    </tr>\n",
       "    <tr>\n",
       "      <th>4</th>\n",
       "      <td>479839</td>\n",
       "      <td>F9D4C99E-9E01-E211-B5F5-78E7D18CFD3C</td>\n",
       "      <td>A - Shift</td>\n",
       "      <td>M401</td>\n",
       "      <td>1</td>\n",
       "      <td>402</td>\n",
       "      <td>No Treatment/Transport Required</td>\n",
       "      <td>NaN</td>\n",
       "      <td>Driver-Response,Driver-Transport</td>\n",
       "      <td>2018-01-01 00:40:54</td>\n",
       "      <td>Male</td>\n",
       "      <td>2012-02-27</td>\n",
       "    </tr>\n",
       "  </tbody>\n",
       "</table>\n",
       "</div>"
      ],
      "text/plain": [
       "   PatientId                        FRDPersonnelID      Shift UnitId  \\\n",
       "0     479838  6ED7C99E-9E01-E211-B5F5-78E7D18CFD3C  A - Shift   M404   \n",
       "1     479838  F39A55F0-C619-E511-80CA-001DD8B71D38  A - Shift   M404   \n",
       "2     479838  D6D3C99E-9E01-E211-B5F5-78E7D18CFD3C  A - Shift   M404   \n",
       "3     479839  71D4C99E-9E01-E211-B5F5-78E7D18CFD3C  A - Shift   M401   \n",
       "4     479839  F9D4C99E-9E01-E211-B5F5-78E7D18CFD3C  A - Shift   M401   \n",
       "\n",
       "   FireStation  Battalion                   PatientOutcome PatientGender  \\\n",
       "0            4        401  Standby (No Services Performed)           NaN   \n",
       "1            4        401  Standby (No Services Performed)           NaN   \n",
       "2            4        401  Standby (No Services Performed)           NaN   \n",
       "3            1        402  No Treatment/Transport Required           NaN   \n",
       "4            1        402  No Treatment/Transport Required           NaN   \n",
       "\n",
       "                                     CrewMemberRoles        DispatchTime  \\\n",
       "0  Primary Patient Caregiver-At Scene,Primary Pat... 2018-01-01 00:29:02   \n",
       "1  Driver-Transport,Other Patient Caregiver-At Scene 2018-01-01 00:29:02   \n",
       "2  Intern/Student,Other Patient Caregiver-At Scen... 2018-01-01 00:29:02   \n",
       "3  Primary Patient Caregiver-At Scene,Primary Pat... 2018-01-01 00:40:54   \n",
       "4                   Driver-Response,Driver-Transport 2018-01-01 00:40:54   \n",
       "\n",
       "  FRDPersonnelGender FRDPersonnelStartDate  \n",
       "0               Male            1997-08-18  \n",
       "1               Male            2007-02-19  \n",
       "2               Male            2008-08-18  \n",
       "3               Male            2011-10-24  \n",
       "4               Male            2012-02-27  "
      ]
     },
     "execution_count": 5,
     "metadata": {},
     "output_type": "execute_result"
    }
   ],
   "source": [
    "df0.head()"
   ]
  },
  {
   "cell_type": "code",
   "execution_count": 7,
   "id": "automated-multimedia",
   "metadata": {},
   "outputs": [
    {
     "name": "stdout",
     "output_type": "stream",
     "text": [
      "<class 'pandas.core.frame.DataFrame'>\n",
      "RangeIndex: 543774 entries, 0 to 543773\n",
      "Data columns (total 12 columns):\n",
      " #   Column                 Non-Null Count   Dtype         \n",
      "---  ------                 --------------   -----         \n",
      " 0   PatientId              543774 non-null  int64         \n",
      " 1   FRDPersonnelID         543774 non-null  object        \n",
      " 2   Shift                  543774 non-null  object        \n",
      " 3   UnitId                 543774 non-null  object        \n",
      " 4   FireStation            543774 non-null  int64         \n",
      " 5   Battalion              543774 non-null  int64         \n",
      " 6   PatientOutcome         543772 non-null  object        \n",
      " 7   PatientGender          412396 non-null  object        \n",
      " 8   CrewMemberRoles        543774 non-null  object        \n",
      " 9   DispatchTime           543774 non-null  datetime64[ns]\n",
      " 10  FRDPersonnelGender     543300 non-null  object        \n",
      " 11  FRDPersonnelStartDate  543300 non-null  datetime64[ns]\n",
      "dtypes: datetime64[ns](2), int64(3), object(7)\n",
      "memory usage: 49.8+ MB\n"
     ]
    }
   ],
   "source": [
    "df0.info()"
   ]
  },
  {
   "cell_type": "markdown",
   "id": "graduate-asset",
   "metadata": {},
   "source": [
    "## 2. Data Clean and Expore"
   ]
  },
  {
   "cell_type": "code",
   "execution_count": 8,
   "id": "shared-charm",
   "metadata": {},
   "outputs": [],
   "source": [
    "# drop duplicate and filter the primary patient caregiver\n",
    "df0.drop_duplicates(inplace=True)\n",
    "df1 = df0.loc[df0['CrewMemberRoles'].str.contains('Primary Patient Caregiver')]\n",
    "df1.index = range(df1.shape[0])"
   ]
  },
  {
   "cell_type": "code",
   "execution_count": 9,
   "id": "difficult-scheme",
   "metadata": {},
   "outputs": [
    {
     "data": {
      "text/plain": [
       "96"
      ]
     },
     "execution_count": 9,
     "metadata": {},
     "output_type": "execute_result"
    }
   ],
   "source": [
    "# check if there are only one primary patient caregiver for one patient\n",
    "patientcount = list(df1[\"PatientId\"].unique())\n",
    "df1[\"PatientId\"].value_counts().sum() - len(patientcount)"
   ]
  },
  {
   "cell_type": "code",
   "execution_count": 10,
   "id": "unlimited-infrared",
   "metadata": {},
   "outputs": [],
   "source": [
    "# keep the first one\n",
    "df2 = df1.drop_duplicates(subset=['PatientId'],keep='first')"
   ]
  },
  {
   "cell_type": "code",
   "execution_count": 11,
   "id": "agreed-blowing",
   "metadata": {},
   "outputs": [
    {
     "data": {
      "text/plain": [
       "Shift                     0\n",
       "FireStation               0\n",
       "FRDPersonnelStartDate    12\n",
       "PatientOutcome            1\n",
       "dtype: int64"
      ]
     },
     "execution_count": 11,
     "metadata": {},
     "output_type": "execute_result"
    }
   ],
   "source": [
    "df3 = df2[['Shift','FireStation','FRDPersonnelStartDate','PatientOutcome']]\n",
    "df3.isna().sum()"
   ]
  },
  {
   "cell_type": "code",
   "execution_count": 17,
   "id": "sharp-violence",
   "metadata": {},
   "outputs": [],
   "source": [
    "df = df3.dropna()\n",
    "df.index = range(df.shape[0])"
   ]
  },
  {
   "cell_type": "code",
   "execution_count": 18,
   "id": "crude-faculty",
   "metadata": {},
   "outputs": [
    {
     "name": "stdout",
     "output_type": "stream",
     "text": [
      "       Shift  FireStation FRDPersonnelStartDate  \\\n",
      "0  A - Shift            4            1997-08-18   \n",
      "1  A - Shift            1            2011-10-24   \n",
      "2  B - Shift           19            2015-01-12   \n",
      "3  A - Shift           35            2004-07-12   \n",
      "4  A - Shift           37            2012-09-24   \n",
      "\n",
      "                    PatientOutcome  year  tenure  \n",
      "0  Standby (No Services Performed)  1997      24  \n",
      "1  No Treatment/Transport Required  2011      10  \n",
      "2           Patient Refusal  (AMA)  2015       6  \n",
      "3           Treated & Transported   2004      17  \n",
      "4           Treated & Transported   2012       9  \n"
     ]
    }
   ],
   "source": [
    "pd.set_option('mode.chained_assignment', None)  # no warning\n",
    "df['year'] = pd.DatetimeIndex(df['FRDPersonnelStartDate']).year\n",
    "df['tenure'] = 2021 - df['year']\n",
    "print(df.head())"
   ]
  },
  {
   "cell_type": "code",
   "execution_count": 19,
   "id": "subsequent-discretion",
   "metadata": {},
   "outputs": [
    {
     "data": {
      "image/png": "[encoded data removed]",
      "text/plain": [
       "<Figure size 432x288 with 1 Axes>"
      ]
     },
     "metadata": {
      "needs_background": "light"
     },
     "output_type": "display_data"
    }
   ],
   "source": [
    "sns.countplot(y='PatientOutcome', data=df)\n",
    "plt.show()"
   ]
  },
  {
   "cell_type": "markdown",
   "id": "fancy-repair",
   "metadata": {},
   "source": [
    "## 3 Classification analysis _ Decision Tree"
   ]
  },
  {
   "cell_type": "code",
   "execution_count": 20,
   "id": "forty-relay",
   "metadata": {},
   "outputs": [],
   "source": [
    "from sklearn import tree\n",
    "from sklearn.tree import DecisionTreeClassifier\n",
    "from sklearn.model_selection import GridSearchCV\n",
    "from sklearn.model_selection import train_test_split\n",
    "from sklearn.model_selection import cross_val_score"
   ]
  },
  {
   "cell_type": "code",
   "execution_count": 21,
   "id": "historic-danger",
   "metadata": {},
   "outputs": [
    {
     "data": {
      "text/html": [
       "<div>\n",
       "<style scoped>\n",
       "    .dataframe tbody tr th:only-of-type {\n",
       "        vertical-align: middle;\n",
       "    }\n",
       "\n",
       "    .dataframe tbody tr th {\n",
       "        vertical-align: top;\n",
       "    }\n",
       "\n",
       "    .dataframe thead th {\n",
       "        text-align: right;\n",
       "    }\n",
       "</style>\n",
       "<table border=\"1\" class=\"dataframe\">\n",
       "  <thead>\n",
       "    <tr style=\"text-align: right;\">\n",
       "      <th></th>\n",
       "      <th>Shift</th>\n",
       "      <th>FireStation</th>\n",
       "      <th>tenure</th>\n",
       "      <th>PatientOutcome</th>\n",
       "    </tr>\n",
       "  </thead>\n",
       "  <tbody>\n",
       "    <tr>\n",
       "      <th>0</th>\n",
       "      <td>A - Shift</td>\n",
       "      <td>4</td>\n",
       "      <td>24</td>\n",
       "      <td>Standby (No Services Performed)</td>\n",
       "    </tr>\n",
       "    <tr>\n",
       "      <th>1</th>\n",
       "      <td>A - Shift</td>\n",
       "      <td>1</td>\n",
       "      <td>10</td>\n",
       "      <td>No Treatment/Transport Required</td>\n",
       "    </tr>\n",
       "    <tr>\n",
       "      <th>2</th>\n",
       "      <td>B - Shift</td>\n",
       "      <td>19</td>\n",
       "      <td>6</td>\n",
       "      <td>Patient Refusal  (AMA)</td>\n",
       "    </tr>\n",
       "    <tr>\n",
       "      <th>3</th>\n",
       "      <td>A - Shift</td>\n",
       "      <td>35</td>\n",
       "      <td>17</td>\n",
       "      <td>Treated &amp; Transported</td>\n",
       "    </tr>\n",
       "    <tr>\n",
       "      <th>4</th>\n",
       "      <td>A - Shift</td>\n",
       "      <td>37</td>\n",
       "      <td>9</td>\n",
       "      <td>Treated &amp; Transported</td>\n",
       "    </tr>\n",
       "  </tbody>\n",
       "</table>\n",
       "</div>"
      ],
      "text/plain": [
       "       Shift  FireStation  tenure                   PatientOutcome\n",
       "0  A - Shift            4      24  Standby (No Services Performed)\n",
       "1  A - Shift            1      10  No Treatment/Transport Required\n",
       "2  B - Shift           19       6           Patient Refusal  (AMA)\n",
       "3  A - Shift           35      17           Treated & Transported \n",
       "4  A - Shift           37       9           Treated & Transported "
      ]
     },
     "execution_count": 21,
     "metadata": {},
     "output_type": "execute_result"
    }
   ],
   "source": [
    "dfr = df[['Shift','FireStation','tenure','PatientOutcome']]\n",
    "dfr.head()"
   ]
  },
  {
   "cell_type": "code",
   "execution_count": 22,
   "id": "after-chapter",
   "metadata": {},
   "outputs": [],
   "source": [
    "# A-0， B-1， C-2\n",
    "labels = dfr['Shift'].unique().tolist()\n",
    "dfr['Shift'] = dfr['Shift'].apply(lambda x: labels.index(x))"
   ]
  },
  {
   "cell_type": "markdown",
   "id": "anonymous-state",
   "metadata": {},
   "source": [
    "0 'Standby (No Services Performed)',  \n",
    "1 'No Treatment/Transport Required',  \n",
    "2 'Patient Refusal (AMA)',  \n",
    "3 'Treated & Transported ',  \n",
    "4 'Canceled (On Scene, No Patient Contact) ',  \n",
    "5 'No Patient Found',  \n",
    "6 'Canceled (Prior to Arrival) ',  \n",
    "7 'Standby (Operational Support Provided)',  \n",
    "8 'Patient Dead at Scene (No EMS CPR)',  \n",
    "9 'Treated, Transferred Care ',  \n",
    "10 'EMS Assist (Other Agency)',  \n",
    "11 'Patient Dead at Scene (EMS CPR Attempted)'  "
   ]
  },
  {
   "cell_type": "code",
   "execution_count": 23,
   "id": "proper-inspection",
   "metadata": {},
   "outputs": [
    {
     "data": {
      "text/html": [
       "<div>\n",
       "<style scoped>\n",
       "    .dataframe tbody tr th:only-of-type {\n",
       "        vertical-align: middle;\n",
       "    }\n",
       "\n",
       "    .dataframe tbody tr th {\n",
       "        vertical-align: top;\n",
       "    }\n",
       "\n",
       "    .dataframe thead th {\n",
       "        text-align: right;\n",
       "    }\n",
       "</style>\n",
       "<table border=\"1\" class=\"dataframe\">\n",
       "  <thead>\n",
       "    <tr style=\"text-align: right;\">\n",
       "      <th></th>\n",
       "      <th>Shift</th>\n",
       "      <th>FireStation</th>\n",
       "      <th>tenure</th>\n",
       "      <th>PatientOutcome</th>\n",
       "    </tr>\n",
       "  </thead>\n",
       "  <tbody>\n",
       "    <tr>\n",
       "      <th>0</th>\n",
       "      <td>0</td>\n",
       "      <td>4</td>\n",
       "      <td>24</td>\n",
       "      <td>0</td>\n",
       "    </tr>\n",
       "    <tr>\n",
       "      <th>1</th>\n",
       "      <td>0</td>\n",
       "      <td>1</td>\n",
       "      <td>10</td>\n",
       "      <td>1</td>\n",
       "    </tr>\n",
       "    <tr>\n",
       "      <th>2</th>\n",
       "      <td>1</td>\n",
       "      <td>19</td>\n",
       "      <td>6</td>\n",
       "      <td>2</td>\n",
       "    </tr>\n",
       "    <tr>\n",
       "      <th>3</th>\n",
       "      <td>0</td>\n",
       "      <td>35</td>\n",
       "      <td>17</td>\n",
       "      <td>3</td>\n",
       "    </tr>\n",
       "    <tr>\n",
       "      <th>4</th>\n",
       "      <td>0</td>\n",
       "      <td>37</td>\n",
       "      <td>9</td>\n",
       "      <td>3</td>\n",
       "    </tr>\n",
       "  </tbody>\n",
       "</table>\n",
       "</div>"
      ],
      "text/plain": [
       "   Shift  FireStation  tenure  PatientOutcome\n",
       "0      0            4      24               0\n",
       "1      0            1      10               1\n",
       "2      1           19       6               2\n",
       "3      0           35      17               3\n",
       "4      0           37       9               3"
      ]
     },
     "execution_count": 23,
     "metadata": {},
     "output_type": "execute_result"
    }
   ],
   "source": [
    "labels2 = dfr['PatientOutcome'].unique().tolist()\n",
    "dfr['PatientOutcome'] = dfr['PatientOutcome'].apply(lambda x: labels2.index(x))\n",
    "dfr.head()"
   ]
  },
  {
   "cell_type": "code",
   "execution_count": 24,
   "id": "analyzed-immunology",
   "metadata": {},
   "outputs": [],
   "source": [
    "x = dfr.iloc[:,dfr.columns != \"PatientOutcome\"]\n",
    "y = dfr.iloc[:,dfr.columns == \"PatientOutcome\"]\n",
    "Xtrain, Xtest, Ytrain, Ytest = train_test_split(x, y, test_size=0.2)"
   ]
  },
  {
   "cell_type": "code",
   "execution_count": 25,
   "id": "monthly-priority",
   "metadata": {},
   "outputs": [
    {
     "data": {
      "text/plain": [
       "0.6627786890225381"
      ]
     },
     "execution_count": 25,
     "metadata": {},
     "output_type": "execute_result"
    }
   ],
   "source": [
    "for i in [Xtrain, Xtest, Ytrain, Ytest]:\n",
    "    i.index = range(i.shape[0])\n",
    "clf = DecisionTreeClassifier(random_state=10,splitter=\"random\")\n",
    "clf = clf.fit(Xtrain, Ytrain)\n",
    "score = clf.score(Xtest, Ytest)\n",
    "\n",
    "score"
   ]
  },
  {
   "cell_type": "code",
   "execution_count": 26,
   "id": "expired-broadway",
   "metadata": {},
   "outputs": [
    {
     "data": {
      "text/plain": [
       "0.6603567840284632"
      ]
     },
     "execution_count": 26,
     "metadata": {},
     "output_type": "execute_result"
    }
   ],
   "source": [
    "clf = DecisionTreeClassifier(random_state=10,splitter=\"random\")   \n",
    "score = cross_val_score(clf,x,y,cv=10).mean()\n",
    "\n",
    "score"
   ]
  },
  {
   "cell_type": "code",
   "execution_count": 27,
   "id": "subtle-motivation",
   "metadata": {
    "code_folding": []
   },
   "outputs": [
    {
     "name": "stdout",
     "output_type": "stream",
     "text": [
      "0.6658161669093432\n"
     ]
    },
    {
     "data": {
      "image/png": "[encoded data removed]",
      "text/plain": [
       "<Figure size 432x288 with 1 Axes>"
      ]
     },
     "metadata": {
      "needs_background": "light"
     },
     "output_type": "display_data"
    }
   ],
   "source": [
    "tr = []\n",
    "te = []\n",
    "for i in range(10):\n",
    "    clf = DecisionTreeClassifier(random_state=25\n",
    "                                ,max_depth=i+1\n",
    "                                )\n",
    "    clf = clf.fit(Xtrain, Ytrain)\n",
    "    score_tr = clf.score(Xtrain, Ytrain) \n",
    "    score_te = cross_val_score(clf,x,y,cv=10).mean()\n",
    "    tr.append(score_tr)\n",
    "    te.append(score_te)\n",
    "print(max(te))\n",
    "plt.plot(range(1,11),tr,color=\"red\",label=\"train\")\n",
    "plt.plot(range(1,11),te,color=\"blue\",label=\"test\")\n",
    "plt.xticks(range(1,11))\n",
    "plt.legend()\n",
    "plt.show()"
   ]
  },
  {
   "cell_type": "code",
   "execution_count": 28,
   "id": "certain-gibraltar",
   "metadata": {},
   "outputs": [
    {
     "data": {
      "text/plain": [
       "0.6642569305226494"
      ]
     },
     "execution_count": 28,
     "metadata": {},
     "output_type": "execute_result"
    }
   ],
   "source": [
    "clf = DecisionTreeClassifier(random_state=10,splitter=\"random\",max_depth=7)\n",
    "clf = clf.fit(Xtrain, Ytrain)\n",
    "score = clf.score(Xtest, Ytest)\n",
    "\n",
    "score"
   ]
  },
  {
   "cell_type": "markdown",
   "id": "respected-novelty",
   "metadata": {},
   "source": [
    "Precition Accuracy Score: 66.4%"
   ]
  },
  {
   "cell_type": "code",
   "execution_count": 29,
   "id": "going-wilson",
   "metadata": {},
   "outputs": [
    {
     "data": {
      "text/plain": [
       "array([0.16461466, 0.54311131, 0.29227403])"
      ]
     },
     "execution_count": 29,
     "metadata": {},
     "output_type": "execute_result"
    }
   ],
   "source": [
    "# Shift FireStation tenure\n",
    "clf.feature_importances_"
   ]
  },
  {
   "cell_type": "code",
   "execution_count": 30,
   "id": "three-mattress",
   "metadata": {
    "scrolled": true
   },
   "outputs": [
    {
     "data": {
      "text/plain": [
       "Text(0.5, 1.0, 'Feature Importance Ranking')"
      ]
     },
     "execution_count": 30,
     "metadata": {},
     "output_type": "execute_result"
    },
    {
     "data": {
      "image/png": "[encoded data removed]",
      "text/plain": [
       "<Figure size 432x288 with 1 Axes>"
      ]
     },
     "metadata": {
      "needs_background": "light"
     },
     "output_type": "display_data"
    }
   ],
   "source": [
    "feature = ['Shift', 'FireStation', 'tenure']\n",
    "importance = clf.feature_importances_\n",
    "importance= importance.tolist()\n",
    "plt.scatter(feature,importance,marker=\"s\")\n",
    "plt.xlabel('Feature')  \n",
    "plt.ylabel('Importance')\n",
    "plt.title('Feature Importance Ranking')"
   ]
  },
  {
   "cell_type": "markdown",
   "id": "expected-scheme",
   "metadata": {},
   "source": [
    "The rank of attributes importance:  \n",
    "1. FireStation  \n",
    "2. Tenure  \n",
    "3. Shift \n",
    "\n",
    "The result is same with the Cramer'v score for correlation analysis.\n",
    "\n",
    "Cramer‘v score:   \n",
    "fire station: 0.0562  \n",
    "provider tenure: 0.03    \n",
    "shift: 0.0197    \n",
    "\n",
    "Cramer'v score measure the strength of association between categorical data.   \n",
    "The coefficient ranges from 0 to 1.  \n",
    "0 means the two variables are no association, and 1 means strong association."
   ]
  }
 ],
 "metadata": {
  "kernelspec": {
   "display_name": "Python 3",
   "language": "python",
   "name": "python3"
  },
  "language_info": {
   "codemirror_mode": {
    "name": "ipython",
    "version": 3
   },
   "file_extension": ".py",
   "mimetype": "text/x-python",
   "name": "python",
   "nbconvert_exporter": "python",
   "pygments_lexer": "ipython3",
   "version": "3.8.8"
  }
 },
 "nbformat": 4,
 "nbformat_minor": 5
}
