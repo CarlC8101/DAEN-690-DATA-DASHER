{
 "cells": [
  {
   "cell_type": "code",
   "execution_count": 1,
   "metadata": {},
   "outputs": [
    {
     "name": "stdout",
     "output_type": "stream",
     "text": [
      "Libraries Imported\n"
     ]
    },
    {
     "name": "stderr",
     "output_type": "stream",
     "text": [
      "C:\\Users\\sampa\\Anaconda3\\lib\\site-packages\\sklearn\\externals\\joblib\\__init__.py:15: DeprecationWarning: sklearn.externals.joblib is deprecated in 0.21 and will be removed in 0.23. Please import this functionality directly from joblib, which can be installed with: pip install joblib. If this warning is raised when loading pickled models, you may need to re-serialize those models with scikit-learn 0.21+.\n",
      "  warnings.warn(msg, category=DeprecationWarning)\n"
     ]
    }
   ],
   "source": [
    "#Importing Libraries\n",
    "import numpy as np\n",
    "import pandas as pd\n",
    "from sklearn.model_selection import train_test_split\n",
    "from sklearn.preprocessing import StandardScaler\n",
    "from sklearn.ensemble import RandomForestClassifier\n",
    "from sklearn.metrics import confusion_matrix\n",
    "from sklearn.externals import joblib\n",
    "print('Libraries Imported')"
   ]
  },
  {
   "cell_type": "code",
   "execution_count": 2,
   "metadata": {},
   "outputs": [
    {
     "data": {
      "text/html": [
       "<div>\n",
       "<style scoped>\n",
       "    .dataframe tbody tr th:only-of-type {\n",
       "        vertical-align: middle;\n",
       "    }\n",
       "\n",
       "    .dataframe tbody tr th {\n",
       "        vertical-align: top;\n",
       "    }\n",
       "\n",
       "    .dataframe thead th {\n",
       "        text-align: right;\n",
       "    }\n",
       "</style>\n",
       "<table border=\"1\" class=\"dataframe\">\n",
       "  <thead>\n",
       "    <tr style=\"text-align: right;\">\n",
       "      <th></th>\n",
       "      <th>Shift</th>\n",
       "      <th>FireStation</th>\n",
       "      <th>FRDPersonnelStartDate</th>\n",
       "      <th>PatientOutcome</th>\n",
       "      <th>year</th>\n",
       "      <th>tenure</th>\n",
       "      <th>tenure_bin</th>\n",
       "    </tr>\n",
       "  </thead>\n",
       "  <tbody>\n",
       "    <tr>\n",
       "      <td>0</td>\n",
       "      <td>A - Shift</td>\n",
       "      <td>4</td>\n",
       "      <td>1997-08-18</td>\n",
       "      <td>Standby (No Services Performed)</td>\n",
       "      <td>1997</td>\n",
       "      <td>24</td>\n",
       "      <td>11+</td>\n",
       "    </tr>\n",
       "    <tr>\n",
       "      <td>1</td>\n",
       "      <td>A - Shift</td>\n",
       "      <td>1</td>\n",
       "      <td>2011-10-24</td>\n",
       "      <td>No Treatment/Transport Required</td>\n",
       "      <td>2011</td>\n",
       "      <td>10</td>\n",
       "      <td>4-10</td>\n",
       "    </tr>\n",
       "    <tr>\n",
       "      <td>2</td>\n",
       "      <td>B - Shift</td>\n",
       "      <td>19</td>\n",
       "      <td>2015-01-12</td>\n",
       "      <td>Patient Refusal  (AMA)</td>\n",
       "      <td>2015</td>\n",
       "      <td>6</td>\n",
       "      <td>4-10</td>\n",
       "    </tr>\n",
       "    <tr>\n",
       "      <td>3</td>\n",
       "      <td>A - Shift</td>\n",
       "      <td>35</td>\n",
       "      <td>2004-07-12</td>\n",
       "      <td>Treated &amp; Transported</td>\n",
       "      <td>2004</td>\n",
       "      <td>17</td>\n",
       "      <td>11+</td>\n",
       "    </tr>\n",
       "    <tr>\n",
       "      <td>4</td>\n",
       "      <td>A - Shift</td>\n",
       "      <td>37</td>\n",
       "      <td>2012-09-24</td>\n",
       "      <td>Treated &amp; Transported</td>\n",
       "      <td>2012</td>\n",
       "      <td>9</td>\n",
       "      <td>4-10</td>\n",
       "    </tr>\n",
       "  </tbody>\n",
       "</table>\n",
       "</div>"
      ],
      "text/plain": [
       "       Shift  FireStation FRDPersonnelStartDate  \\\n",
       "0  A - Shift            4            1997-08-18   \n",
       "1  A - Shift            1            2011-10-24   \n",
       "2  B - Shift           19            2015-01-12   \n",
       "3  A - Shift           35            2004-07-12   \n",
       "4  A - Shift           37            2012-09-24   \n",
       "\n",
       "                    PatientOutcome  year  tenure tenure_bin  \n",
       "0  Standby (No Services Performed)  1997      24        11+  \n",
       "1  No Treatment/Transport Required  2011      10       4-10  \n",
       "2           Patient Refusal  (AMA)  2015       6       4-10  \n",
       "3           Treated & Transported   2004      17        11+  \n",
       "4           Treated & Transported   2012       9       4-10  "
      ]
     },
     "execution_count": 2,
     "metadata": {},
     "output_type": "execute_result"
    }
   ],
   "source": [
    "cleanedset_original = pd.read_csv('C:/Users/sampa/OneDrive/Desktop/GMU/Spring_2021/Dataset/cleandata_q3q4.csv')\n",
    "cleanedset_original.head(5)"
   ]
  },
  {
   "cell_type": "code",
   "execution_count": 3,
   "metadata": {},
   "outputs": [],
   "source": [
    "cleanup_nums = {\"Shift\": {\"A - Shift\": 1, \"B - Shift\": 2, \"C - Shift\" : 3},\n",
    "               \"PatientOutcome\": {\"Treated & Transported \": 1, \"Standby (No Services Performed)\": 2, \n",
    "                                   \"Treated, Transferred Care \": 3, \n",
    "                                   \"Standby (Operational Support Provided)\": 4, \n",
    "                                  \"Patient Refusal  (AMA)\": 5, \"Patient Dead at Scene (No EMS CPR)\": 6,\n",
    "                                   \"Patient Dead at Scene (EMS CPR Attempted)\": 7, \"No Treatment/Transport Required\": 8,\n",
    "                                  \"No Patient Found\": 9, \"EMS Assist (Other Agency)\": 10, \"Canceled (Prior to Arrival) \": 11,\n",
    "                                  \"Canceled (On Scene, No Patient Contact) \": 12}\n",
    "}"
   ]
  },
  {
   "cell_type": "code",
   "execution_count": 4,
   "metadata": {},
   "outputs": [
    {
     "data": {
      "text/html": [
       "<div>\n",
       "<style scoped>\n",
       "    .dataframe tbody tr th:only-of-type {\n",
       "        vertical-align: middle;\n",
       "    }\n",
       "\n",
       "    .dataframe tbody tr th {\n",
       "        vertical-align: top;\n",
       "    }\n",
       "\n",
       "    .dataframe thead th {\n",
       "        text-align: right;\n",
       "    }\n",
       "</style>\n",
       "<table border=\"1\" class=\"dataframe\">\n",
       "  <thead>\n",
       "    <tr style=\"text-align: right;\">\n",
       "      <th></th>\n",
       "      <th>Shift</th>\n",
       "      <th>FireStation</th>\n",
       "      <th>FRDPersonnelStartDate</th>\n",
       "      <th>PatientOutcome</th>\n",
       "      <th>year</th>\n",
       "      <th>tenure</th>\n",
       "      <th>tenure_bin</th>\n",
       "    </tr>\n",
       "  </thead>\n",
       "  <tbody>\n",
       "    <tr>\n",
       "      <td>0</td>\n",
       "      <td>1</td>\n",
       "      <td>4</td>\n",
       "      <td>1997-08-18</td>\n",
       "      <td>2</td>\n",
       "      <td>1997</td>\n",
       "      <td>24</td>\n",
       "      <td>11+</td>\n",
       "    </tr>\n",
       "    <tr>\n",
       "      <td>1</td>\n",
       "      <td>1</td>\n",
       "      <td>1</td>\n",
       "      <td>2011-10-24</td>\n",
       "      <td>8</td>\n",
       "      <td>2011</td>\n",
       "      <td>10</td>\n",
       "      <td>4-10</td>\n",
       "    </tr>\n",
       "    <tr>\n",
       "      <td>2</td>\n",
       "      <td>2</td>\n",
       "      <td>19</td>\n",
       "      <td>2015-01-12</td>\n",
       "      <td>5</td>\n",
       "      <td>2015</td>\n",
       "      <td>6</td>\n",
       "      <td>4-10</td>\n",
       "    </tr>\n",
       "    <tr>\n",
       "      <td>3</td>\n",
       "      <td>1</td>\n",
       "      <td>35</td>\n",
       "      <td>2004-07-12</td>\n",
       "      <td>1</td>\n",
       "      <td>2004</td>\n",
       "      <td>17</td>\n",
       "      <td>11+</td>\n",
       "    </tr>\n",
       "    <tr>\n",
       "      <td>4</td>\n",
       "      <td>1</td>\n",
       "      <td>37</td>\n",
       "      <td>2012-09-24</td>\n",
       "      <td>1</td>\n",
       "      <td>2012</td>\n",
       "      <td>9</td>\n",
       "      <td>4-10</td>\n",
       "    </tr>\n",
       "  </tbody>\n",
       "</table>\n",
       "</div>"
      ],
      "text/plain": [
       "   Shift  FireStation FRDPersonnelStartDate  PatientOutcome  year  tenure  \\\n",
       "0      1            4            1997-08-18               2  1997      24   \n",
       "1      1            1            2011-10-24               8  2011      10   \n",
       "2      2           19            2015-01-12               5  2015       6   \n",
       "3      1           35            2004-07-12               1  2004      17   \n",
       "4      1           37            2012-09-24               1  2012       9   \n",
       "\n",
       "  tenure_bin  \n",
       "0        11+  \n",
       "1       4-10  \n",
       "2       4-10  \n",
       "3        11+  \n",
       "4       4-10  "
      ]
     },
     "execution_count": 4,
     "metadata": {},
     "output_type": "execute_result"
    }
   ],
   "source": [
    "cleanedset = cleanedset_original.replace(cleanup_nums)\n",
    "cleanedset.head(5)"
   ]
  },
  {
   "cell_type": "code",
   "execution_count": 5,
   "metadata": {},
   "outputs": [],
   "source": [
    "F = cleanedset[['Shift', 'FireStation', 'tenure', 'PatientOutcome']]"
   ]
  },
  {
   "cell_type": "code",
   "execution_count": 6,
   "metadata": {},
   "outputs": [
    {
     "data": {
      "text/html": [
       "<div>\n",
       "<style scoped>\n",
       "    .dataframe tbody tr th:only-of-type {\n",
       "        vertical-align: middle;\n",
       "    }\n",
       "\n",
       "    .dataframe tbody tr th {\n",
       "        vertical-align: top;\n",
       "    }\n",
       "\n",
       "    .dataframe thead th {\n",
       "        text-align: right;\n",
       "    }\n",
       "</style>\n",
       "<table border=\"1\" class=\"dataframe\">\n",
       "  <thead>\n",
       "    <tr style=\"text-align: right;\">\n",
       "      <th></th>\n",
       "      <th>Shift</th>\n",
       "      <th>FireStation</th>\n",
       "      <th>tenure</th>\n",
       "      <th>PatientOutcome</th>\n",
       "    </tr>\n",
       "  </thead>\n",
       "  <tbody>\n",
       "    <tr>\n",
       "      <td>0</td>\n",
       "      <td>1</td>\n",
       "      <td>4</td>\n",
       "      <td>24</td>\n",
       "      <td>2</td>\n",
       "    </tr>\n",
       "    <tr>\n",
       "      <td>1</td>\n",
       "      <td>1</td>\n",
       "      <td>1</td>\n",
       "      <td>10</td>\n",
       "      <td>8</td>\n",
       "    </tr>\n",
       "    <tr>\n",
       "      <td>2</td>\n",
       "      <td>2</td>\n",
       "      <td>19</td>\n",
       "      <td>6</td>\n",
       "      <td>5</td>\n",
       "    </tr>\n",
       "    <tr>\n",
       "      <td>3</td>\n",
       "      <td>1</td>\n",
       "      <td>35</td>\n",
       "      <td>17</td>\n",
       "      <td>1</td>\n",
       "    </tr>\n",
       "    <tr>\n",
       "      <td>4</td>\n",
       "      <td>1</td>\n",
       "      <td>37</td>\n",
       "      <td>9</td>\n",
       "      <td>1</td>\n",
       "    </tr>\n",
       "  </tbody>\n",
       "</table>\n",
       "</div>"
      ],
      "text/plain": [
       "   Shift  FireStation  tenure  PatientOutcome\n",
       "0      1            4      24               2\n",
       "1      1            1      10               8\n",
       "2      2           19       6               5\n",
       "3      1           35      17               1\n",
       "4      1           37       9               1"
      ]
     },
     "execution_count": 6,
     "metadata": {},
     "output_type": "execute_result"
    }
   ],
   "source": [
    "F.head(5)"
   ]
  },
  {
   "cell_type": "code",
   "execution_count": 7,
   "metadata": {},
   "outputs": [
    {
     "name": "stdout",
     "output_type": "stream",
     "text": [
      "0    0\n",
      "1    1\n",
      "2    2\n",
      "3    3\n",
      "4    3\n",
      "Name: PatientOutcome, dtype: int64\n",
      "Int64Index([2, 8, 5, 1, 12, 9, 11, 4, 6, 3, 10, 7], dtype='int64')\n"
     ]
    },
    {
     "name": "stderr",
     "output_type": "stream",
     "text": [
      "C:\\Users\\sampa\\Anaconda3\\lib\\site-packages\\pandas\\core\\generic.py:5208: SettingWithCopyWarning: \n",
      "A value is trying to be set on a copy of a slice from a DataFrame.\n",
      "Try using .loc[row_indexer,col_indexer] = value instead\n",
      "\n",
      "See the caveats in the documentation: http://pandas.pydata.org/pandas-docs/stable/user_guide/indexing.html#returning-a-view-versus-a-copy\n",
      "  self[name] = value\n"
     ]
    }
   ],
   "source": [
    "#creating multiclass dependent variable\n",
    "factor = pd.factorize(F['PatientOutcome'])\n",
    "F.PatientOutcome = factor[0]\n",
    "definitions = factor[1]\n",
    "print(F.PatientOutcome.head())\n",
    "print(definitions)"
   ]
  },
  {
   "cell_type": "code",
   "execution_count": 8,
   "metadata": {},
   "outputs": [
    {
     "name": "stdout",
     "output_type": "stream",
     "text": [
      "The independent features set: \n",
      "[[ 1  4 24]\n",
      " [ 1  1 10]\n",
      " [ 2 19  6]\n",
      " [ 1 35 17]]\n",
      "The dependent variable: \n",
      "[0 1 2 3]\n"
     ]
    }
   ],
   "source": [
    "#Splitting the data into independent and dependent variables\n",
    "X = F.iloc[:,0:3].values\n",
    "y = F.iloc[:,3].values\n",
    "print('The independent features set: ')\n",
    "print(X[:4,:])\n",
    "print('The dependent variable: ')\n",
    "print(y[:4])"
   ]
  },
  {
   "cell_type": "code",
   "execution_count": 9,
   "metadata": {},
   "outputs": [
    {
     "name": "stdout",
     "output_type": "stream",
     "text": [
      "[3 3 1 ... 3 1 3]\n",
      "[2 3 3 ... 2 2 1]\n"
     ]
    }
   ],
   "source": [
    "X_train, X_test, y_train, y_test = train_test_split(X, y, test_size = 0.25, random_state = 21)\n",
    "print(y_test)\n",
    "print(y_train)"
   ]
  },
  {
   "cell_type": "code",
   "execution_count": 10,
   "metadata": {},
   "outputs": [],
   "source": [
    "# Feature Scaling\n",
    "scaler = StandardScaler()\n",
    "X_train = scaler.fit_transform(X_train)\n",
    "X_test = scaler.transform(X_test)"
   ]
  },
  {
   "cell_type": "code",
   "execution_count": 11,
   "metadata": {},
   "outputs": [
    {
     "data": {
      "text/plain": [
       "RandomForestClassifier(bootstrap=True, class_weight=None, criterion='entropy',\n",
       "                       max_depth=None, max_features='auto', max_leaf_nodes=None,\n",
       "                       min_impurity_decrease=0.0, min_impurity_split=None,\n",
       "                       min_samples_leaf=1, min_samples_split=2,\n",
       "                       min_weight_fraction_leaf=0.0, n_estimators=100,\n",
       "                       n_jobs=None, oob_score=False, random_state=42, verbose=0,\n",
       "                       warm_start=False)"
      ]
     },
     "execution_count": 11,
     "metadata": {},
     "output_type": "execute_result"
    }
   ],
   "source": [
    "classifier = RandomForestClassifier(n_estimators = 100, criterion = 'entropy', random_state = 42)\n",
    "classifier.fit(X_train, y_train)"
   ]
  },
  {
   "cell_type": "code",
   "execution_count": 12,
   "metadata": {},
   "outputs": [],
   "source": [
    "# Predicting the Test set results\n",
    "y_pred = classifier.predict(X_test)"
   ]
  },
  {
   "cell_type": "code",
   "execution_count": 13,
   "metadata": {},
   "outputs": [
    {
     "name": "stdout",
     "output_type": "stream",
     "text": [
      "[('Shift', 0.028284784699518357), ('FireStation', 0.5967222751279982), ('tenure', 0.3749929401724833)]\n"
     ]
    },
    {
     "data": {
      "text/plain": [
       "['randomforestmodel.pkl']"
      ]
     },
     "execution_count": 13,
     "metadata": {},
     "output_type": "execute_result"
    }
   ],
   "source": [
    "print(list(zip(F.columns[0:3], classifier.feature_importances_)))\n",
    "joblib.dump(classifier, 'randomforestmodel.pkl') "
   ]
  },
  {
   "cell_type": "code",
   "execution_count": 14,
   "metadata": {},
   "outputs": [
    {
     "name": "stdout",
     "output_type": "stream",
     "text": [
      "Accuracy: 0.665 (0.000)\n"
     ]
    }
   ],
   "source": [
    "from numpy import mean\n",
    "from numpy import std\n",
    "from sklearn.datasets import make_classification\n",
    "from sklearn.model_selection import cross_val_score\n",
    "from sklearn.model_selection import RepeatedStratifiedKFold\n",
    "from sklearn.ensemble import RandomForestClassifier\n",
    "\n",
    "model = RandomForestClassifier()\n",
    "# evaluate the model\n",
    "cv = RepeatedStratifiedKFold(n_splits=10, n_repeats=3, random_state=1)\n",
    "n_scores = cross_val_score(model, X, y, scoring='accuracy', cv=cv, n_jobs=-1, error_score='raise')\n",
    "# report performance\n",
    "print('Accuracy: %.3f (%.3f)' % (mean(n_scores), std(n_scores)))"
   ]
  },
  {
   "cell_type": "code",
   "execution_count": 15,
   "metadata": {},
   "outputs": [
    {
     "data": {
      "text/plain": [
       "array([0.02828478, 0.59672228, 0.37499294])"
      ]
     },
     "execution_count": 15,
     "metadata": {},
     "output_type": "execute_result"
    }
   ],
   "source": [
    "classifier.feature_importances_"
   ]
  },
  {
   "cell_type": "code",
   "execution_count": 16,
   "metadata": {},
   "outputs": [
    {
     "data": {
      "image/png": "[encoded data removed]",
      "text/plain": [
       "<Figure size 432x288 with 1 Axes>"
      ]
     },
     "metadata": {
      "needs_background": "light"
     },
     "output_type": "display_data"
    }
   ],
   "source": [
    "%matplotlib inline\n",
    "from matplotlib import pyplot as plt\n",
    "\n",
    "features = F.columns[[0,1,2]]\n",
    "importances = classifier.feature_importances_\n",
    "indices = np.argsort(importances)\n",
    "\n",
    "plt.title('Feature Importance')\n",
    "plt.barh(range(len(indices)), importances[indices], color='b', align='center')\n",
    "plt.yticks(range(len(indices)), [features[i] for i in indices])\n",
    "plt.xlabel('Relative Importance')\n",
    "plt.show()"
   ]
  },
  {
   "cell_type": "code",
   "execution_count": null,
   "metadata": {},
   "outputs": [],
   "source": []
  }
 ],
 "metadata": {
  "kernelspec": {
   "display_name": "Python 3",
   "language": "python",
   "name": "python3"
  },
  "language_info": {
   "codemirror_mode": {
    "name": "ipython",
    "version": 3
   },
   "file_extension": ".py",
   "mimetype": "text/x-python",
   "name": "python",
   "nbconvert_exporter": "python",
   "pygments_lexer": "ipython3",
   "version": "3.7.4"
  }
 },
 "nbformat": 4,
 "nbformat_minor": 2
}
